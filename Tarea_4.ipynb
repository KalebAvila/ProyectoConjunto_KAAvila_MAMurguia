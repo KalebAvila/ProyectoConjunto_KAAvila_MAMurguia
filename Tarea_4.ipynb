{
  "cells": [
    {
      "cell_type": "markdown",
      "metadata": {
        "id": "view-in-github",
        "colab_type": "text"
      },
      "source": [
        "<a href=\"https://colab.research.google.com/github/KalebAvila/ProyectoConjunto_KAAvila_MAMurguia/blob/main/Tarea_4.ipynb\" target=\"_parent\"><img src=\"https://colab.research.google.com/assets/colab-badge.svg\" alt=\"Open In Colab\"/></a>"
      ]
    },
    {
      "cell_type": "markdown",
      "metadata": {
        "id": "Y8JPSFIDS5Kl"
      },
      "source": [
        "<img style=\"float: left; margin: 30px 15px 15px 15px;\" src=\"https://encrypted-tbn0.gstatic.com/images?q=tbn:ANd9GcTFzQj91sOlkeDFkg5HDbjtR4QJYmLXkfMNig&usqp=CAU\" width=\"400\" height=\"500\" />\n",
        "    \n",
        "    \n",
        "### <font color='navy'> Modelos no lineales para pronósticos.\n",
        "\n",
        "**Nombres:** Kaleb Azael Avila Padilla, Manuel Aalejandro Murguia Orantes\n",
        "\n",
        "**Fecha:** 5 de Marzo de 2024.\n",
        "\n",
        "**Expediente** : 724405, 739360\n",
        "    \n",
        "**Profesor:** Oscar David Jaramillo Zuluaga.\n",
        "    \n",
        "**Link Github**: https://github.com/KalebAvila/ProyectoConjunto_KAAvila_MAMurguia\n",
        "\n",
        "# Tarea 4: Clase 11"
      ]
    },
    {
      "cell_type": "markdown",
      "metadata": {
        "id": "L9uUwv2ZS5Kq"
      },
      "source": [
        "# <font color='red'> Tarea: </font>\n",
        "\n",
        "Terminar los demás numerales faltantes de este ejercicio."
      ]
    },
    {
      "cell_type": "markdown",
      "metadata": {
        "id": "53oetBtRS5Kr"
      },
      "source": [
        "Código de solución estudiante 1"
      ]
    },
    {
      "cell_type": "code",
      "execution_count": null,
      "metadata": {
        "id": "dpgXA8u-S5Kr"
      },
      "outputs": [],
      "source": [
        "# Código de solución estudiante 1\n",
        ".\n",
        ".\n",
        ".\n",
        ".\n"
      ]
    },
    {
      "cell_type": "markdown",
      "metadata": {
        "id": "0TBipXbsS5Kt"
      },
      "source": [
        "Código de solución estudiante 2"
      ]
    },
    {
      "cell_type": "code",
      "execution_count": null,
      "metadata": {
        "id": "hc0cdSn1S5Kt"
      },
      "outputs": [],
      "source": [
        "# Código de solución estudiante 2\n",
        ".\n",
        ".\n",
        ".\n",
        ".\n"
      ]
    },
    {
      "cell_type": "markdown",
      "metadata": {
        "id": "prPgxiHGS5Ku"
      },
      "source": [
        "### Respuesta planteada en el ejercicio usando (markdown)\n",
        " La respuesta es ........."
      ]
    }
  ],
  "metadata": {
    "kernelspec": {
      "display_name": "Python 3 (ipykernel)",
      "language": "python",
      "name": "python3"
    },
    "language_info": {
      "codemirror_mode": {
        "name": "ipython",
        "version": 3
      },
      "file_extension": ".py",
      "mimetype": "text/x-python",
      "name": "python",
      "nbconvert_exporter": "python",
      "pygments_lexer": "ipython3",
      "version": "3.9.12"
    },
    "colab": {
      "provenance": [],
      "include_colab_link": true
    }
  },
  "nbformat": 4,
  "nbformat_minor": 0
}